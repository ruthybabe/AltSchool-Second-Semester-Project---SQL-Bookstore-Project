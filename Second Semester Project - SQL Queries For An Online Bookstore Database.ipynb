{
 "cells": [
  {
   "cell_type": "markdown",
   "id": "1c987f0c-b64f-4c52-a858-38e6df544047",
   "metadata": {
    "deletable": false,
    "editable": false,
    "nbgrader": {
     "cell_type": "markdown",
     "checksum": "b463879b519ee558d8752454bcd19fc6",
     "grade": false,
     "grade_id": "cell-0a5d4682d34c4b8b",
     "locked": true,
     "schema_version": 3,
     "solution": false,
     "task": false
    }
   },
   "source": [
    "# DO NOT ADD OR CREATE ANY NEW CELLS\n",
    "## DO NOT ADD OR CREATE ANY NEW CELLS\n",
    "### DO NOT ADD OR CREATE ANY NEW CELLS\n",
    "#### DO NOT ADD OR CREATE ANY NEW CELLS\n",
    "\n",
    "### YOU HAVE TO RUN ALL THESE CELLS BEFORE MOVING ON TO YOUR QUESTIONS. IF YOU ENCOUNTER ANY ERRORS JUST RESTART THE KERNEL"
   ]
  },
  {
   "cell_type": "code",
   "execution_count": 1,
   "id": "c878ffe4-864f-4024-bcda-dc19c32f7352",
   "metadata": {
    "deletable": false,
    "editable": false,
    "nbgrader": {
     "cell_type": "code",
     "checksum": "150dfe555b9b9ec986b77b5bcd4163e9",
     "grade": false,
     "grade_id": "cell-3e534eab5f36d612",
     "locked": true,
     "schema_version": 3,
     "solution": false,
     "task": false
    }
   },
   "outputs": [],
   "source": [
    "#Do not modify this cell\n",
    "#Run this Cell\n",
    "import pandas as pd\n",
    "%load_ext sql"
   ]
  },
  {
   "cell_type": "code",
   "execution_count": 2,
   "id": "fb60937a-a044-4f89-91aa-86b60165557f",
   "metadata": {
    "deletable": false,
    "editable": false,
    "nbgrader": {
     "cell_type": "code",
     "checksum": "c529a2433d620f267e223b2b00008e5f",
     "grade": false,
     "grade_id": "cell-76918a9837e2dc8e",
     "locked": true,
     "schema_version": 3,
     "solution": false,
     "task": false
    }
   },
   "outputs": [],
   "source": [
    "q1 = pd.read_csv('q1.csv', sep = '\\t')\n",
    "q2 = pd.read_csv('q2.csv', sep = '\\t')\n",
    "q3 = pd.read_csv('q3.csv', sep = '\\t')\n",
    "q4 = pd.read_csv('q4.csv', sep = '\\t')\n",
    "q5 = pd.read_csv('q5.csv', sep = '\\t')"
   ]
  },
  {
   "cell_type": "code",
   "execution_count": 3,
   "id": "3cd3c5ff-96dd-466a-9acf-88eb2ed439f0",
   "metadata": {
    "deletable": false,
    "editable": false,
    "nbgrader": {
     "cell_type": "code",
     "checksum": "4e96eddb23069ba59512aa83f91cc7c9",
     "grade": false,
     "grade_id": "cell-390e19db99d84411",
     "locked": true,
     "schema_version": 3,
     "solution": false,
     "task": false
    }
   },
   "outputs": [],
   "source": [
    "%sql sqlite:///bookstore.sqlite"
   ]
  },
  {
   "cell_type": "markdown",
   "id": "77714eb0-2806-481e-b969-3e7ee814072a",
   "metadata": {
    "deletable": false,
    "editable": false,
    "nbgrader": {
     "cell_type": "markdown",
     "checksum": "41aef4f74b02711c46039565c0061e53",
     "grade": false,
     "grade_id": "cell-1164f7ed8bcb6d33",
     "locked": true,
     "schema_version": 3,
     "solution": false,
     "task": false
    }
   },
   "source": [
    "# Here are your questions\n",
    "You are the database administrator for an online bookstore. The bookstore database has several tables that store information about books, authors, customers, orders, and order items. Your task is to create a set of SQL queries to extract useful information from this database.\n",
    "- The name of the table are authors, books, customers, order_items, orders, reviews\n",
    "- Always start your answers with this line `%%sql result <<`. Each question has its own format. For example, Question One would be `%%sql q1_result <<` and so on like that.\n",
    "- Then start writing your query on the next line for example, Question 2 would be\n",
    "    ```\n",
    "%%sql q2_result <<\n",
    "    select * from orders\n",
    "    ```\n",
    "\n",
    "- If you do not follow these instructions your score will not count."
   ]
  },
  {
   "cell_type": "markdown",
   "id": "a8df252f-d559-404e-9aa5-9f852e582c05",
   "metadata": {
    "deletable": false,
    "editable": false,
    "nbgrader": {
     "cell_type": "markdown",
     "checksum": "6b7ecc444f6824f0f3165d97a0b888d2",
     "grade": false,
     "grade_id": "cell-0f4894a55a81b1b4",
     "locked": true,
     "schema_version": 3,
     "solution": false,
     "task": false
    }
   },
   "source": [
    "#### 1. Retrieve a list of the top 5 most popular books based on the number of times they have been ordered. Also order by author name in descending order"
   ]
  },
  {
   "cell_type": "code",
   "execution_count": 4,
   "id": "195cc356-202d-4887-8fce-330dc55eec09",
   "metadata": {
    "deletable": false,
    "editable": false,
    "nbgrader": {
     "cell_type": "code",
     "checksum": "70a3c34930dc48740ef1733a8f04501c",
     "grade": false,
     "grade_id": "cell-c8d49a4e9e62f655",
     "locked": true,
     "schema_version": 3,
     "solution": false,
     "task": false
    }
   },
   "outputs": [
    {
     "name": "stdout",
     "output_type": "stream",
     "text": [
      "This is the expected output\n"
     ]
    },
    {
     "data": {
      "text/html": [
       "<div>\n",
       "<style scoped>\n",
       "    .dataframe tbody tr th:only-of-type {\n",
       "        vertical-align: middle;\n",
       "    }\n",
       "\n",
       "    .dataframe tbody tr th {\n",
       "        vertical-align: top;\n",
       "    }\n",
       "\n",
       "    .dataframe thead th {\n",
       "        text-align: right;\n",
       "    }\n",
       "</style>\n",
       "<table border=\"1\" class=\"dataframe\">\n",
       "  <thead>\n",
       "    <tr style=\"text-align: right;\">\n",
       "      <th></th>\n",
       "      <th>title</th>\n",
       "      <th>author_name</th>\n",
       "      <th>order_count</th>\n",
       "    </tr>\n",
       "  </thead>\n",
       "  <tbody>\n",
       "    <tr>\n",
       "      <th>0</th>\n",
       "      <td>1984</td>\n",
       "      <td>George Orwell</td>\n",
       "      <td>4</td>\n",
       "    </tr>\n",
       "    <tr>\n",
       "      <th>1</th>\n",
       "      <td>Adventures of Huckleberry Finn</td>\n",
       "      <td>Mark Twain</td>\n",
       "      <td>3</td>\n",
       "    </tr>\n",
       "    <tr>\n",
       "      <th>2</th>\n",
       "      <td>Pride and Prejudice</td>\n",
       "      <td>Jane Austen</td>\n",
       "      <td>3</td>\n",
       "    </tr>\n",
       "    <tr>\n",
       "      <th>3</th>\n",
       "      <td>The Hobbit</td>\n",
       "      <td>J.R.R. Tolkien</td>\n",
       "      <td>3</td>\n",
       "    </tr>\n",
       "    <tr>\n",
       "      <th>4</th>\n",
       "      <td>Harry Potter and the Philosophers Stone</td>\n",
       "      <td>J.K. Rowling</td>\n",
       "      <td>3</td>\n",
       "    </tr>\n",
       "  </tbody>\n",
       "</table>\n",
       "</div>"
      ],
      "text/plain": [
       "                                     title     author_name  order_count\n",
       "0                                     1984   George Orwell            4\n",
       "1           Adventures of Huckleberry Finn      Mark Twain            3\n",
       "2                      Pride and Prejudice     Jane Austen            3\n",
       "3                               The Hobbit  J.R.R. Tolkien            3\n",
       "4  Harry Potter and the Philosophers Stone    J.K. Rowling            3"
      ]
     },
     "execution_count": 4,
     "metadata": {},
     "output_type": "execute_result"
    }
   ],
   "source": [
    "#Run this cell to see the expected output\n",
    "#do not modify this cell\n",
    "print('This is the expected output')\n",
    "q1"
   ]
  },
  {
   "cell_type": "markdown",
   "id": "5ebfd106-c95f-4e71-82b4-019b26554af9",
   "metadata": {
    "deletable": false,
    "editable": false,
    "nbgrader": {
     "cell_type": "markdown",
     "checksum": "1368b0585336876bb8262421d636fdfb",
     "grade": false,
     "grade_id": "cell-cfbb15e74069b90c",
     "locked": true,
     "schema_version": 3,
     "solution": false,
     "task": false
    }
   },
   "source": [
    "- **Your column names must match the expected output**\n",
    "- **clear everything in the cell below and write your sql query there.** \n",
    "- Start your answer by typing this exactly as the first line.\n",
    "```\n",
    "%%sql q1_result <<\n"
   ]
  },
  {
   "cell_type": "code",
   "execution_count": 5,
   "id": "464cd1f4-ac0a-470b-9c4e-cdca769b0d22",
   "metadata": {
    "deletable": false,
    "nbgrader": {
     "cell_type": "code",
     "checksum": "360264b7a77573cf3154adc94747a642",
     "grade": false,
     "grade_id": "cell-e0bd2ff299f43c54",
     "locked": false,
     "schema_version": 3,
     "solution": true,
     "task": false
    }
   },
   "outputs": [
    {
     "name": "stdout",
     "output_type": "stream",
     "text": [
      " * sqlite:///bookstore.sqlite\n",
      "Done.\n",
      "Returning data to local variable q1_result\n"
     ]
    }
   ],
   "source": [
    "%%sql q1_result <<\n",
    "SELECT \n",
    "    b.title AS title, \n",
    "    a.name AS author_name, \n",
    "    COUNT(order_items.book_id) AS order_count\n",
    "FROM books AS b\n",
    "JOIN\n",
    "    authors AS a ON b.book_id = a.author_id\n",
    "JOIN\n",
    "    order_items ON b.book_id = order_items.book_id\n",
    "GROUP BY title, author_name\n",
    "ORDER BY order_count DESC, author_name DESC\n",
    "LIMIT 5;"
   ]
  },
  {
   "cell_type": "code",
   "execution_count": 6,
   "id": "fb6e7953-3267-4613-abab-ff971497ca45",
   "metadata": {
    "deletable": false,
    "editable": false,
    "nbgrader": {
     "cell_type": "code",
     "checksum": "cc89d9397ef36d8e21c4e0830b2dfcd8",
     "grade": false,
     "grade_id": "cell-bb3d04c467d9095c",
     "locked": true,
     "schema_version": 3,
     "solution": false,
     "task": false
    }
   },
   "outputs": [
    {
     "name": "stdout",
     "output_type": "stream",
     "text": [
      "This is the output of your query\n"
     ]
    },
    {
     "data": {
      "text/html": [
       "<div>\n",
       "<style scoped>\n",
       "    .dataframe tbody tr th:only-of-type {\n",
       "        vertical-align: middle;\n",
       "    }\n",
       "\n",
       "    .dataframe tbody tr th {\n",
       "        vertical-align: top;\n",
       "    }\n",
       "\n",
       "    .dataframe thead th {\n",
       "        text-align: right;\n",
       "    }\n",
       "</style>\n",
       "<table border=\"1\" class=\"dataframe\">\n",
       "  <thead>\n",
       "    <tr style=\"text-align: right;\">\n",
       "      <th></th>\n",
       "      <th>title</th>\n",
       "      <th>author_name</th>\n",
       "      <th>order_count</th>\n",
       "    </tr>\n",
       "  </thead>\n",
       "  <tbody>\n",
       "    <tr>\n",
       "      <th>0</th>\n",
       "      <td>1984</td>\n",
       "      <td>George Orwell</td>\n",
       "      <td>4</td>\n",
       "    </tr>\n",
       "    <tr>\n",
       "      <th>1</th>\n",
       "      <td>Adventures of Huckleberry Finn</td>\n",
       "      <td>Mark Twain</td>\n",
       "      <td>3</td>\n",
       "    </tr>\n",
       "    <tr>\n",
       "      <th>2</th>\n",
       "      <td>Pride and Prejudice</td>\n",
       "      <td>Jane Austen</td>\n",
       "      <td>3</td>\n",
       "    </tr>\n",
       "    <tr>\n",
       "      <th>3</th>\n",
       "      <td>The Hobbit</td>\n",
       "      <td>J.R.R. Tolkien</td>\n",
       "      <td>3</td>\n",
       "    </tr>\n",
       "    <tr>\n",
       "      <th>4</th>\n",
       "      <td>Harry Potter and the Philosophers Stone</td>\n",
       "      <td>J.K. Rowling</td>\n",
       "      <td>3</td>\n",
       "    </tr>\n",
       "  </tbody>\n",
       "</table>\n",
       "</div>"
      ],
      "text/plain": [
       "                                     title     author_name  order_count\n",
       "0                                     1984   George Orwell            4\n",
       "1           Adventures of Huckleberry Finn      Mark Twain            3\n",
       "2                      Pride and Prejudice     Jane Austen            3\n",
       "3                               The Hobbit  J.R.R. Tolkien            3\n",
       "4  Harry Potter and the Philosophers Stone    J.K. Rowling            3"
      ]
     },
     "execution_count": 6,
     "metadata": {},
     "output_type": "execute_result"
    }
   ],
   "source": [
    "#Run this cell to check your output\n",
    "#do not modify this cell\n",
    "print('This is the output of your query')\n",
    "q1_result.DataFrame()"
   ]
  },
  {
   "cell_type": "code",
   "execution_count": 7,
   "id": "fd4ac615-13c7-4387-be5e-e9107807fb70",
   "metadata": {
    "deletable": false,
    "editable": false,
    "nbgrader": {
     "cell_type": "code",
     "checksum": "1b38d1bd4eb011cc7c29602a3a1502a8",
     "grade": true,
     "grade_id": "cell-cf9ac61b23e1045c",
     "locked": true,
     "points": 2,
     "schema_version": 3,
     "solution": false,
     "task": false
    }
   },
   "outputs": [],
   "source": [
    "#do not modify this cell\n",
    "assert q1_result.DataFrame().equals(q1)"
   ]
  },
  {
   "cell_type": "markdown",
   "id": "c9d2470c-82c9-4201-a6bb-0158c11cbe62",
   "metadata": {
    "deletable": false,
    "editable": false,
    "nbgrader": {
     "cell_type": "markdown",
     "checksum": "5d12fc69e85eecceab104e0699173845",
     "grade": false,
     "grade_id": "cell-65c1475caa4d5938",
     "locked": true,
     "schema_version": 3,
     "solution": false,
     "task": false
    }
   },
   "source": [
    "#### 2. Calculate the total revenue generated by each author from the sales of their books."
   ]
  },
  {
   "cell_type": "code",
   "execution_count": 8,
   "id": "c34e5241-bfd9-4fc7-a026-b3b6411bd728",
   "metadata": {
    "deletable": false,
    "editable": false,
    "nbgrader": {
     "cell_type": "code",
     "checksum": "4df958eb5bacc8b3a1976e72032a8d34",
     "grade": false,
     "grade_id": "cell-3626a066b0e4f3e5",
     "locked": true,
     "schema_version": 3,
     "solution": false,
     "task": false
    }
   },
   "outputs": [
    {
     "name": "stdout",
     "output_type": "stream",
     "text": [
      "This is the expected output\n"
     ]
    },
    {
     "data": {
      "text/html": [
       "<div>\n",
       "<style scoped>\n",
       "    .dataframe tbody tr th:only-of-type {\n",
       "        vertical-align: middle;\n",
       "    }\n",
       "\n",
       "    .dataframe tbody tr th {\n",
       "        vertical-align: top;\n",
       "    }\n",
       "\n",
       "    .dataframe thead th {\n",
       "        text-align: right;\n",
       "    }\n",
       "</style>\n",
       "<table border=\"1\" class=\"dataframe\">\n",
       "  <thead>\n",
       "    <tr style=\"text-align: right;\">\n",
       "      <th></th>\n",
       "      <th>author_name</th>\n",
       "      <th>total_revenue</th>\n",
       "    </tr>\n",
       "  </thead>\n",
       "  <tbody>\n",
       "    <tr>\n",
       "      <th>0</th>\n",
       "      <td>George Orwell</td>\n",
       "      <td>256.83</td>\n",
       "    </tr>\n",
       "    <tr>\n",
       "      <th>1</th>\n",
       "      <td>J.K. Rowling</td>\n",
       "      <td>213.88</td>\n",
       "    </tr>\n",
       "    <tr>\n",
       "      <th>2</th>\n",
       "      <td>Jane Austen</td>\n",
       "      <td>171.92</td>\n",
       "    </tr>\n",
       "    <tr>\n",
       "      <th>3</th>\n",
       "      <td>J.R.R. Tolkien</td>\n",
       "      <td>47.97</td>\n",
       "    </tr>\n",
       "    <tr>\n",
       "      <th>4</th>\n",
       "      <td>Mark Twain</td>\n",
       "      <td>26.97</td>\n",
       "    </tr>\n",
       "  </tbody>\n",
       "</table>\n",
       "</div>"
      ],
      "text/plain": [
       "      author_name  total_revenue\n",
       "0   George Orwell         256.83\n",
       "1    J.K. Rowling         213.88\n",
       "2     Jane Austen         171.92\n",
       "3  J.R.R. Tolkien          47.97\n",
       "4      Mark Twain          26.97"
      ]
     },
     "execution_count": 8,
     "metadata": {},
     "output_type": "execute_result"
    }
   ],
   "source": [
    "#Run this cell to see the expected output\n",
    "#do not modify this cell\n",
    "print('This is the expected output')\n",
    "q2['total_revenue'] = q2['total_revenue'].apply(lambda x: round(x, 2) )\n",
    "q2"
   ]
  },
  {
   "cell_type": "markdown",
   "id": "baad7ff2-e48f-41fc-8733-2f30648cadec",
   "metadata": {
    "deletable": false,
    "editable": false,
    "nbgrader": {
     "cell_type": "markdown",
     "checksum": "55c2631f833657d26aba80f3f92229e9",
     "grade": false,
     "grade_id": "cell-19305da05fcbcefa",
     "locked": true,
     "schema_version": 3,
     "solution": false,
     "task": false
    }
   },
   "source": [
    "- **Your column names must match the expected output**\n",
    "- **clear everything in the cell below and write your sql query there.** \n",
    "- Start your answer by typing this exactly as the first line.\n",
    "```\n",
    "%%sql q2_result <<\n"
   ]
  },
  {
   "cell_type": "code",
   "execution_count": 9,
   "id": "bceb99eb-02d4-46f5-90e1-06974210b629",
   "metadata": {
    "deletable": false,
    "nbgrader": {
     "cell_type": "code",
     "checksum": "b93bca781bc845fd896eb88d7fe57d6d",
     "grade": false,
     "grade_id": "cell-53a525f69f919b9e",
     "locked": false,
     "schema_version": 3,
     "solution": true,
     "task": false
    }
   },
   "outputs": [
    {
     "name": "stdout",
     "output_type": "stream",
     "text": [
      " * sqlite:///bookstore.sqlite\n",
      "Done.\n",
      "Returning data to local variable q2_result\n"
     ]
    }
   ],
   "source": [
    "%%sql q2_result <<\n",
    "SELECT a.name AS author_name, SUM(order_items.quantity * b.price) AS total_revenue\n",
    "FROM authors a\n",
    "JOIN books AS b ON a.author_id = b.author_id\n",
    "JOIN order_items ON b.book_id = order_items.book_id\n",
    "GROUP BY author_name\n",
    "ORDER BY total_revenue DESC;"
   ]
  },
  {
   "cell_type": "code",
   "execution_count": 10,
   "id": "cb1fc27a-d963-4699-a3db-8bf339744313",
   "metadata": {
    "deletable": false,
    "editable": false,
    "nbgrader": {
     "cell_type": "code",
     "checksum": "495218c33cb68cdaf57aaf10e109925a",
     "grade": false,
     "grade_id": "cell-1f843b35e4780eb4",
     "locked": true,
     "schema_version": 3,
     "solution": false,
     "task": false
    }
   },
   "outputs": [
    {
     "name": "stdout",
     "output_type": "stream",
     "text": [
      "This is the output of your query\n"
     ]
    },
    {
     "data": {
      "text/html": [
       "<div>\n",
       "<style scoped>\n",
       "    .dataframe tbody tr th:only-of-type {\n",
       "        vertical-align: middle;\n",
       "    }\n",
       "\n",
       "    .dataframe tbody tr th {\n",
       "        vertical-align: top;\n",
       "    }\n",
       "\n",
       "    .dataframe thead th {\n",
       "        text-align: right;\n",
       "    }\n",
       "</style>\n",
       "<table border=\"1\" class=\"dataframe\">\n",
       "  <thead>\n",
       "    <tr style=\"text-align: right;\">\n",
       "      <th></th>\n",
       "      <th>author_name</th>\n",
       "      <th>total_revenue</th>\n",
       "    </tr>\n",
       "  </thead>\n",
       "  <tbody>\n",
       "    <tr>\n",
       "      <th>0</th>\n",
       "      <td>George Orwell</td>\n",
       "      <td>256.83</td>\n",
       "    </tr>\n",
       "    <tr>\n",
       "      <th>1</th>\n",
       "      <td>J.K. Rowling</td>\n",
       "      <td>213.88</td>\n",
       "    </tr>\n",
       "    <tr>\n",
       "      <th>2</th>\n",
       "      <td>Jane Austen</td>\n",
       "      <td>171.92</td>\n",
       "    </tr>\n",
       "    <tr>\n",
       "      <th>3</th>\n",
       "      <td>J.R.R. Tolkien</td>\n",
       "      <td>47.97</td>\n",
       "    </tr>\n",
       "    <tr>\n",
       "      <th>4</th>\n",
       "      <td>Mark Twain</td>\n",
       "      <td>26.97</td>\n",
       "    </tr>\n",
       "  </tbody>\n",
       "</table>\n",
       "</div>"
      ],
      "text/plain": [
       "      author_name  total_revenue\n",
       "0   George Orwell         256.83\n",
       "1    J.K. Rowling         213.88\n",
       "2     Jane Austen         171.92\n",
       "3  J.R.R. Tolkien          47.97\n",
       "4      Mark Twain          26.97"
      ]
     },
     "execution_count": 10,
     "metadata": {},
     "output_type": "execute_result"
    }
   ],
   "source": [
    "#Run this cell to check your output\n",
    "#do not modify this cell\n",
    "print('This is the output of your query')\n",
    "q2result = q2_result.DataFrame()\n",
    "q2result['total_revenue'] = q2result['total_revenue'].apply(lambda x: round(x, 2) )\n",
    "q2result"
   ]
  },
  {
   "cell_type": "code",
   "execution_count": 11,
   "id": "3e060a98-dc84-4ee8-b43c-511b90b8d718",
   "metadata": {
    "deletable": false,
    "editable": false,
    "nbgrader": {
     "cell_type": "code",
     "checksum": "317d7cf00160f4b8a7cf3c7aa4d5ade6",
     "grade": true,
     "grade_id": "cell-659def203a1c50ec",
     "locked": true,
     "points": 2,
     "schema_version": 3,
     "solution": false,
     "task": false
    }
   },
   "outputs": [],
   "source": [
    "#do not modify this cell\n",
    "assert q2result.equals(q2)"
   ]
  },
  {
   "cell_type": "markdown",
   "id": "4a73373c-8e28-4854-9826-10fc51f89b97",
   "metadata": {
    "deletable": false,
    "editable": false,
    "nbgrader": {
     "cell_type": "markdown",
     "checksum": "9c01c3c2906a3b1940ab29b859975cbb",
     "grade": false,
     "grade_id": "cell-1adb268c9f482126",
     "locked": true,
     "schema_version": 3,
     "solution": false,
     "task": false
    }
   },
   "source": [
    "#### 3. Identify the top 5 customers who have placed the most orders. Also order by customer name in descending order"
   ]
  },
  {
   "cell_type": "code",
   "execution_count": 12,
   "id": "a8e62ba6-60e6-4341-bd33-46520d33a07a",
   "metadata": {
    "deletable": false,
    "editable": false,
    "nbgrader": {
     "cell_type": "code",
     "checksum": "0126cc69c4d8139e192b2598dbcc4a22",
     "grade": false,
     "grade_id": "cell-7ac03db2c8555866",
     "locked": true,
     "schema_version": 3,
     "solution": false,
     "task": false
    }
   },
   "outputs": [
    {
     "name": "stdout",
     "output_type": "stream",
     "text": [
      "This is the expected output\n"
     ]
    },
    {
     "data": {
      "text/html": [
       "<div>\n",
       "<style scoped>\n",
       "    .dataframe tbody tr th:only-of-type {\n",
       "        vertical-align: middle;\n",
       "    }\n",
       "\n",
       "    .dataframe tbody tr th {\n",
       "        vertical-align: top;\n",
       "    }\n",
       "\n",
       "    .dataframe thead th {\n",
       "        text-align: right;\n",
       "    }\n",
       "</style>\n",
       "<table border=\"1\" class=\"dataframe\">\n",
       "  <thead>\n",
       "    <tr style=\"text-align: right;\">\n",
       "      <th></th>\n",
       "      <th>customer_name</th>\n",
       "      <th>order_count</th>\n",
       "    </tr>\n",
       "  </thead>\n",
       "  <tbody>\n",
       "    <tr>\n",
       "      <th>0</th>\n",
       "      <td>David Wilson</td>\n",
       "      <td>6</td>\n",
       "    </tr>\n",
       "    <tr>\n",
       "      <th>1</th>\n",
       "      <td>Alice Johnson</td>\n",
       "      <td>6</td>\n",
       "    </tr>\n",
       "    <tr>\n",
       "      <th>2</th>\n",
       "      <td>Eva Martinez</td>\n",
       "      <td>5</td>\n",
       "    </tr>\n",
       "    <tr>\n",
       "      <th>3</th>\n",
       "      <td>Charlie Brown</td>\n",
       "      <td>4</td>\n",
       "    </tr>\n",
       "    <tr>\n",
       "      <th>4</th>\n",
       "      <td>Bob Smith</td>\n",
       "      <td>4</td>\n",
       "    </tr>\n",
       "  </tbody>\n",
       "</table>\n",
       "</div>"
      ],
      "text/plain": [
       "   customer_name  order_count\n",
       "0   David Wilson            6\n",
       "1  Alice Johnson            6\n",
       "2   Eva Martinez            5\n",
       "3  Charlie Brown            4\n",
       "4      Bob Smith            4"
      ]
     },
     "execution_count": 12,
     "metadata": {},
     "output_type": "execute_result"
    }
   ],
   "source": [
    "#Run this cell to see the expected output\n",
    "#do not modify this cell\n",
    "print('This is the expected output')\n",
    "q3"
   ]
  },
  {
   "cell_type": "markdown",
   "id": "3bcc2908-15c4-4aaf-b890-2d3ae1254cb1",
   "metadata": {
    "deletable": false,
    "editable": false,
    "nbgrader": {
     "cell_type": "markdown",
     "checksum": "92f82ed75003c7500e5dad9d698c074c",
     "grade": false,
     "grade_id": "cell-4db87f56b6a401c2",
     "locked": true,
     "schema_version": 3,
     "solution": false,
     "task": false
    }
   },
   "source": [
    "- **Your column names must match the expected output**\n",
    "- **clear everything in the cell below and write your sql query there.** \n",
    "- Start your answer by typing this exactly as the first line.\n",
    "```\n",
    "%%sql q3_result <<"
   ]
  },
  {
   "cell_type": "code",
   "execution_count": 13,
   "id": "99e9f2ce-2d22-4533-8acc-19a526a4d55e",
   "metadata": {
    "deletable": false,
    "nbgrader": {
     "cell_type": "code",
     "checksum": "48488366dc3023bd5acc4a15d79c27e0",
     "grade": false,
     "grade_id": "cell-152c04c839ff086b",
     "locked": false,
     "schema_version": 3,
     "solution": true,
     "task": false
    }
   },
   "outputs": [
    {
     "name": "stdout",
     "output_type": "stream",
     "text": [
      " * sqlite:///bookstore.sqlite\n",
      "Done.\n",
      "Returning data to local variable q3_result\n"
     ]
    }
   ],
   "source": [
    "%%sql q3_result <<\n",
    "SELECT name AS customer_name,\n",
    "  (SELECT COUNT(order_id) authors\n",
    "   FROM orders\n",
    "   WHERE orders.customer_id = customers.customer_id) AS order_count\n",
    "FROM customers\n",
    "ORDER BY order_count DESC, customer_name DESC\n",
    "LIMIT 5;"
   ]
  },
  {
   "cell_type": "code",
   "execution_count": 14,
   "id": "6afedbee-fca1-4c08-9439-024d41615d1d",
   "metadata": {
    "deletable": false,
    "editable": false,
    "nbgrader": {
     "cell_type": "code",
     "checksum": "39d6cd65ce7c0e1978a0e97fbb79151e",
     "grade": false,
     "grade_id": "cell-4980902af8056e42",
     "locked": true,
     "schema_version": 3,
     "solution": false,
     "task": false
    }
   },
   "outputs": [
    {
     "name": "stdout",
     "output_type": "stream",
     "text": [
      "This is the output of your query\n"
     ]
    },
    {
     "data": {
      "text/html": [
       "<div>\n",
       "<style scoped>\n",
       "    .dataframe tbody tr th:only-of-type {\n",
       "        vertical-align: middle;\n",
       "    }\n",
       "\n",
       "    .dataframe tbody tr th {\n",
       "        vertical-align: top;\n",
       "    }\n",
       "\n",
       "    .dataframe thead th {\n",
       "        text-align: right;\n",
       "    }\n",
       "</style>\n",
       "<table border=\"1\" class=\"dataframe\">\n",
       "  <thead>\n",
       "    <tr style=\"text-align: right;\">\n",
       "      <th></th>\n",
       "      <th>customer_name</th>\n",
       "      <th>order_count</th>\n",
       "    </tr>\n",
       "  </thead>\n",
       "  <tbody>\n",
       "    <tr>\n",
       "      <th>0</th>\n",
       "      <td>David Wilson</td>\n",
       "      <td>6</td>\n",
       "    </tr>\n",
       "    <tr>\n",
       "      <th>1</th>\n",
       "      <td>Alice Johnson</td>\n",
       "      <td>6</td>\n",
       "    </tr>\n",
       "    <tr>\n",
       "      <th>2</th>\n",
       "      <td>Eva Martinez</td>\n",
       "      <td>5</td>\n",
       "    </tr>\n",
       "    <tr>\n",
       "      <th>3</th>\n",
       "      <td>Charlie Brown</td>\n",
       "      <td>4</td>\n",
       "    </tr>\n",
       "    <tr>\n",
       "      <th>4</th>\n",
       "      <td>Bob Smith</td>\n",
       "      <td>4</td>\n",
       "    </tr>\n",
       "  </tbody>\n",
       "</table>\n",
       "</div>"
      ],
      "text/plain": [
       "   customer_name  order_count\n",
       "0   David Wilson            6\n",
       "1  Alice Johnson            6\n",
       "2   Eva Martinez            5\n",
       "3  Charlie Brown            4\n",
       "4      Bob Smith            4"
      ]
     },
     "execution_count": 14,
     "metadata": {},
     "output_type": "execute_result"
    }
   ],
   "source": [
    "#Run this cell to check your output\n",
    "#do not modify this cell\n",
    "print('This is the output of your query')\n",
    "q3_result.DataFrame()"
   ]
  },
  {
   "cell_type": "code",
   "execution_count": 15,
   "id": "fded9f4f-1da8-407b-82d6-d8616aae3125",
   "metadata": {
    "deletable": false,
    "editable": false,
    "nbgrader": {
     "cell_type": "code",
     "checksum": "9f554737ccbf93b6242098a9a5488d3d",
     "grade": true,
     "grade_id": "cell-9aedb87130b9508f",
     "locked": true,
     "points": 2,
     "schema_version": 3,
     "solution": false,
     "task": false
    }
   },
   "outputs": [],
   "source": [
    "#do not modify this cell\n",
    "assert q3_result.DataFrame().equals(q3)"
   ]
  },
  {
   "cell_type": "markdown",
   "id": "2a826d5b-dffc-44c4-9ac4-ec3ddc64ed15",
   "metadata": {
    "deletable": false,
    "editable": false,
    "nbgrader": {
     "cell_type": "markdown",
     "checksum": "88c6517a5c13bfb7a9b2c9b1579d2542",
     "grade": false,
     "grade_id": "cell-83f728a880377315",
     "locked": true,
     "schema_version": 3,
     "solution": false,
     "task": false
    }
   },
   "source": [
    "#### 4. Find all orders that contain book with book_id = 1."
   ]
  },
  {
   "cell_type": "code",
   "execution_count": 16,
   "id": "fa5bc78c-675a-4922-bad6-b98e011fda94",
   "metadata": {
    "deletable": false,
    "editable": false,
    "nbgrader": {
     "cell_type": "code",
     "checksum": "d7683249145db8c46f552434de224dae",
     "grade": false,
     "grade_id": "cell-5ff076c81cb8647a",
     "locked": true,
     "schema_version": 3,
     "solution": false,
     "task": false
    }
   },
   "outputs": [
    {
     "name": "stdout",
     "output_type": "stream",
     "text": [
      "This is the expected output\n"
     ]
    },
    {
     "data": {
      "text/html": [
       "<div>\n",
       "<style scoped>\n",
       "    .dataframe tbody tr th:only-of-type {\n",
       "        vertical-align: middle;\n",
       "    }\n",
       "\n",
       "    .dataframe tbody tr th {\n",
       "        vertical-align: top;\n",
       "    }\n",
       "\n",
       "    .dataframe thead th {\n",
       "        text-align: right;\n",
       "    }\n",
       "</style>\n",
       "<table border=\"1\" class=\"dataframe\">\n",
       "  <thead>\n",
       "    <tr style=\"text-align: right;\">\n",
       "      <th></th>\n",
       "      <th>order_id</th>\n",
       "      <th>customer_name</th>\n",
       "      <th>order_date</th>\n",
       "    </tr>\n",
       "  </thead>\n",
       "  <tbody>\n",
       "    <tr>\n",
       "      <th>0</th>\n",
       "      <td>1</td>\n",
       "      <td>Alice Johnson</td>\n",
       "      <td>2023-05-01</td>\n",
       "    </tr>\n",
       "    <tr>\n",
       "      <th>1</th>\n",
       "      <td>5</td>\n",
       "      <td>Eva Martinez</td>\n",
       "      <td>2023-05-05</td>\n",
       "    </tr>\n",
       "    <tr>\n",
       "      <th>2</th>\n",
       "      <td>13</td>\n",
       "      <td>Eva Martinez</td>\n",
       "      <td>2023-05-15</td>\n",
       "    </tr>\n",
       "    <tr>\n",
       "      <th>3</th>\n",
       "      <td>21</td>\n",
       "      <td>Charlie Brown</td>\n",
       "      <td>2023-06-20</td>\n",
       "    </tr>\n",
       "  </tbody>\n",
       "</table>\n",
       "</div>"
      ],
      "text/plain": [
       "   order_id  customer_name  order_date\n",
       "0         1  Alice Johnson  2023-05-01\n",
       "1         5   Eva Martinez  2023-05-05\n",
       "2        13   Eva Martinez  2023-05-15\n",
       "3        21  Charlie Brown  2023-06-20"
      ]
     },
     "execution_count": 16,
     "metadata": {},
     "output_type": "execute_result"
    }
   ],
   "source": [
    "#Run this cell to check your output\n",
    "#do not modify this cell\n",
    "print('This is the expected output')\n",
    "q4"
   ]
  },
  {
   "cell_type": "markdown",
   "id": "ea0a49a1-14a9-49ff-974a-1d50fa88cbe6",
   "metadata": {
    "deletable": false,
    "editable": false,
    "nbgrader": {
     "cell_type": "markdown",
     "checksum": "8e36ad43003f0686143b2345c17635be",
     "grade": false,
     "grade_id": "cell-7fa034df27a5dedf",
     "locked": true,
     "schema_version": 3,
     "solution": false,
     "task": false
    }
   },
   "source": [
    "- **Your column names must match the expected output**\n",
    "- **clear everything in the cell below and write your sql query there.** \n",
    "- Start your answer by typing this exactly as the first line.\n",
    "```\n",
    "%%sql q4_result <<"
   ]
  },
  {
   "cell_type": "code",
   "execution_count": 17,
   "id": "6a1cf934-6db8-4d98-9155-fe3b8025893f",
   "metadata": {
    "deletable": false,
    "nbgrader": {
     "cell_type": "code",
     "checksum": "5a1f4e2dcd9dc38ec44ad9871420e816",
     "grade": false,
     "grade_id": "cell-43cea19331ed2979",
     "locked": false,
     "schema_version": 3,
     "solution": true,
     "task": false
    }
   },
   "outputs": [
    {
     "name": "stdout",
     "output_type": "stream",
     "text": [
      " * sqlite:///bookstore.sqlite\n",
      "Done.\n",
      "Returning data to local variable q4_result\n"
     ]
    }
   ],
   "source": [
    "%%sql q4_result <<\n",
    "WITH book_order AS (\n",
    "  SELECT order_items.order_id, order_items.book_id, customers.name AS customer_name, orders.order_date\n",
    "  FROM order_items\n",
    "  JOIN orders ON order_items.order_id = orders.order_id\n",
    "  JOIN customers ON customers.customer_id = orders.customer_id\n",
    "  )\n",
    "SELECT order_id, customer_name, order_date\n",
    "FROM book_order\n",
    "WHERE book_id = 1"
   ]
  },
  {
   "cell_type": "code",
   "execution_count": 18,
   "id": "ce26b617-afbd-4e3b-ba37-0408b5cd795b",
   "metadata": {
    "deletable": false,
    "editable": false,
    "nbgrader": {
     "cell_type": "code",
     "checksum": "52ca366e12d42818a907393df96993cc",
     "grade": false,
     "grade_id": "cell-3d7eb1c7382b92a1",
     "locked": true,
     "schema_version": 3,
     "solution": false,
     "task": false
    }
   },
   "outputs": [
    {
     "name": "stdout",
     "output_type": "stream",
     "text": [
      "This is the output of your query\n"
     ]
    },
    {
     "data": {
      "text/html": [
       "<div>\n",
       "<style scoped>\n",
       "    .dataframe tbody tr th:only-of-type {\n",
       "        vertical-align: middle;\n",
       "    }\n",
       "\n",
       "    .dataframe tbody tr th {\n",
       "        vertical-align: top;\n",
       "    }\n",
       "\n",
       "    .dataframe thead th {\n",
       "        text-align: right;\n",
       "    }\n",
       "</style>\n",
       "<table border=\"1\" class=\"dataframe\">\n",
       "  <thead>\n",
       "    <tr style=\"text-align: right;\">\n",
       "      <th></th>\n",
       "      <th>order_id</th>\n",
       "      <th>customer_name</th>\n",
       "      <th>order_date</th>\n",
       "    </tr>\n",
       "  </thead>\n",
       "  <tbody>\n",
       "    <tr>\n",
       "      <th>0</th>\n",
       "      <td>1</td>\n",
       "      <td>Alice Johnson</td>\n",
       "      <td>2023-05-01</td>\n",
       "    </tr>\n",
       "    <tr>\n",
       "      <th>1</th>\n",
       "      <td>5</td>\n",
       "      <td>Eva Martinez</td>\n",
       "      <td>2023-05-05</td>\n",
       "    </tr>\n",
       "    <tr>\n",
       "      <th>2</th>\n",
       "      <td>13</td>\n",
       "      <td>Eva Martinez</td>\n",
       "      <td>2023-05-15</td>\n",
       "    </tr>\n",
       "    <tr>\n",
       "      <th>3</th>\n",
       "      <td>21</td>\n",
       "      <td>Charlie Brown</td>\n",
       "      <td>2023-06-20</td>\n",
       "    </tr>\n",
       "  </tbody>\n",
       "</table>\n",
       "</div>"
      ],
      "text/plain": [
       "   order_id  customer_name  order_date\n",
       "0         1  Alice Johnson  2023-05-01\n",
       "1         5   Eva Martinez  2023-05-05\n",
       "2        13   Eva Martinez  2023-05-15\n",
       "3        21  Charlie Brown  2023-06-20"
      ]
     },
     "execution_count": 18,
     "metadata": {},
     "output_type": "execute_result"
    }
   ],
   "source": [
    "#Run this cell to check your output\n",
    "#do not modify this cell\n",
    "print('This is the output of your query')\n",
    "q4_result.DataFrame()"
   ]
  },
  {
   "cell_type": "code",
   "execution_count": 19,
   "id": "a67cf5f1-878d-4792-8c82-c7e5597a9b6c",
   "metadata": {
    "deletable": false,
    "editable": false,
    "nbgrader": {
     "cell_type": "code",
     "checksum": "971bf95590024864b531ed881446fbbb",
     "grade": true,
     "grade_id": "cell-0103803ea2a61006",
     "locked": true,
     "points": 2,
     "schema_version": 3,
     "solution": false,
     "task": false
    }
   },
   "outputs": [],
   "source": [
    "#do not modify this cell\n",
    "assert q4_result.DataFrame().equals(q4)"
   ]
  },
  {
   "cell_type": "markdown",
   "id": "a25775ce-f368-47a5-9c3f-2b4c3a1f8aab",
   "metadata": {
    "deletable": false,
    "editable": false,
    "nbgrader": {
     "cell_type": "markdown",
     "checksum": "b1f43f06da895839d729a3fb4a8b554f",
     "grade": false,
     "grade_id": "cell-b7964630ef4ddfbb",
     "locked": true,
     "schema_version": 3,
     "solution": false,
     "task": false
    }
   },
   "source": [
    "#### 5. Select detailed review information of the Least 5 Books based on ratings, including book title, author name, review rating, and review text."
   ]
  },
  {
   "cell_type": "code",
   "execution_count": 20,
   "id": "c441796f-8f9e-49dc-91d4-c5e0173446ce",
   "metadata": {
    "deletable": false,
    "editable": false,
    "nbgrader": {
     "cell_type": "code",
     "checksum": "17c88711c70f0d5e2717ad76660eb0dc",
     "grade": false,
     "grade_id": "cell-c7744d5c021f28d1",
     "locked": true,
     "schema_version": 3,
     "solution": false,
     "task": false
    }
   },
   "outputs": [
    {
     "name": "stdout",
     "output_type": "stream",
     "text": [
      "This is the expected output\n"
     ]
    },
    {
     "data": {
      "text/html": [
       "<div>\n",
       "<style scoped>\n",
       "    .dataframe tbody tr th:only-of-type {\n",
       "        vertical-align: middle;\n",
       "    }\n",
       "\n",
       "    .dataframe tbody tr th {\n",
       "        vertical-align: top;\n",
       "    }\n",
       "\n",
       "    .dataframe thead th {\n",
       "        text-align: right;\n",
       "    }\n",
       "</style>\n",
       "<table border=\"1\" class=\"dataframe\">\n",
       "  <thead>\n",
       "    <tr style=\"text-align: right;\">\n",
       "      <th></th>\n",
       "      <th>review_id</th>\n",
       "      <th>book_title</th>\n",
       "      <th>author_name</th>\n",
       "      <th>rating</th>\n",
       "      <th>review_text</th>\n",
       "    </tr>\n",
       "  </thead>\n",
       "  <tbody>\n",
       "    <tr>\n",
       "      <th>0</th>\n",
       "      <td>1</td>\n",
       "      <td>1984</td>\n",
       "      <td>George Orwell</td>\n",
       "      <td>5</td>\n",
       "      <td>A timeless masterpiece.</td>\n",
       "    </tr>\n",
       "    <tr>\n",
       "      <th>1</th>\n",
       "      <td>2</td>\n",
       "      <td>Pride and Prejudice</td>\n",
       "      <td>Jane Austen</td>\n",
       "      <td>4</td>\n",
       "      <td>A wonderful love story.</td>\n",
       "    </tr>\n",
       "    <tr>\n",
       "      <th>2</th>\n",
       "      <td>3</td>\n",
       "      <td>Harry Potter and the Philosophers Stone</td>\n",
       "      <td>J.K. Rowling</td>\n",
       "      <td>5</td>\n",
       "      <td>An incredible journey of magic and friendship.</td>\n",
       "    </tr>\n",
       "    <tr>\n",
       "      <th>3</th>\n",
       "      <td>4</td>\n",
       "      <td>Adventures of Huckleberry Finn</td>\n",
       "      <td>Mark Twain</td>\n",
       "      <td>4</td>\n",
       "      <td>A fascinating adventure.</td>\n",
       "    </tr>\n",
       "    <tr>\n",
       "      <th>4</th>\n",
       "      <td>5</td>\n",
       "      <td>The Hobbit</td>\n",
       "      <td>J.R.R. Tolkien</td>\n",
       "      <td>5</td>\n",
       "      <td>An epic tale of heroism.</td>\n",
       "    </tr>\n",
       "  </tbody>\n",
       "</table>\n",
       "</div>"
      ],
      "text/plain": [
       "   review_id                               book_title     author_name  rating  \\\n",
       "0          1                                     1984   George Orwell       5   \n",
       "1          2                      Pride and Prejudice     Jane Austen       4   \n",
       "2          3  Harry Potter and the Philosophers Stone    J.K. Rowling       5   \n",
       "3          4           Adventures of Huckleberry Finn      Mark Twain       4   \n",
       "4          5                               The Hobbit  J.R.R. Tolkien       5   \n",
       "\n",
       "                                      review_text  \n",
       "0                         A timeless masterpiece.  \n",
       "1                         A wonderful love story.  \n",
       "2  An incredible journey of magic and friendship.  \n",
       "3                        A fascinating adventure.  \n",
       "4                        An epic tale of heroism.  "
      ]
     },
     "execution_count": 20,
     "metadata": {},
     "output_type": "execute_result"
    }
   ],
   "source": [
    "#Run this cell to see the expected output\n",
    "#do not modify this cell\n",
    "print('This is the expected output')\n",
    "q5"
   ]
  },
  {
   "cell_type": "markdown",
   "id": "3d4d9522-7077-42d4-997f-429be86c0649",
   "metadata": {
    "deletable": false,
    "editable": false,
    "nbgrader": {
     "cell_type": "markdown",
     "checksum": "d5da88468af997de6b813853c6164b5d",
     "grade": false,
     "grade_id": "cell-540318f7d78e11f9",
     "locked": true,
     "schema_version": 3,
     "solution": false,
     "task": false
    }
   },
   "source": [
    "- **Your column names must match the expected output**\n",
    "- **clear everything in the cell below and write your sql query there.** \n",
    "- Start your answer by typing this exactly.\n",
    "```\n",
    "%%sql q5_result <<"
   ]
  },
  {
   "cell_type": "code",
   "execution_count": 21,
   "id": "b91509a2-c461-4712-b404-12062cb63ea9",
   "metadata": {
    "deletable": false,
    "nbgrader": {
     "cell_type": "code",
     "checksum": "3e2203e3601b3286347312fd2712d988",
     "grade": false,
     "grade_id": "cell-e51c13847d1d0ebf",
     "locked": false,
     "schema_version": 3,
     "solution": true,
     "task": false
    }
   },
   "outputs": [
    {
     "name": "stdout",
     "output_type": "stream",
     "text": [
      " * sqlite:///bookstore.sqlite\n",
      "Done.\n",
      "Returning data to local variable q5_result\n"
     ]
    }
   ],
   "source": [
    "%%sql q5_result <<\n",
    "SELECT \n",
    "    reviews.review_id, \n",
    "    b.title AS book_title, \n",
    "    a.name AS author_name, \n",
    "    reviews.rating, \n",
    "    reviews.review_text\n",
    "FROM reviews\n",
    "JOIN books AS b ON reviews.book_id = b.book_id\n",
    "JOIN authors AS a ON b.author_id = a.author_id\n",
    "GROUP BY author_name\n",
    "ORDER BY review_id\n",
    "LIMIT 5;"
   ]
  },
  {
   "cell_type": "code",
   "execution_count": 22,
   "id": "0d86ac1f-6af8-4c59-a380-983b907cbb28",
   "metadata": {
    "deletable": false,
    "editable": false,
    "nbgrader": {
     "cell_type": "code",
     "checksum": "6d0e8002b4162bac82e84dfdd0a48a93",
     "grade": false,
     "grade_id": "cell-2621824e3ec15817",
     "locked": true,
     "schema_version": 3,
     "solution": false,
     "task": false
    }
   },
   "outputs": [
    {
     "name": "stdout",
     "output_type": "stream",
     "text": [
      "This is the output of your query\n"
     ]
    },
    {
     "data": {
      "text/html": [
       "<div>\n",
       "<style scoped>\n",
       "    .dataframe tbody tr th:only-of-type {\n",
       "        vertical-align: middle;\n",
       "    }\n",
       "\n",
       "    .dataframe tbody tr th {\n",
       "        vertical-align: top;\n",
       "    }\n",
       "\n",
       "    .dataframe thead th {\n",
       "        text-align: right;\n",
       "    }\n",
       "</style>\n",
       "<table border=\"1\" class=\"dataframe\">\n",
       "  <thead>\n",
       "    <tr style=\"text-align: right;\">\n",
       "      <th></th>\n",
       "      <th>review_id</th>\n",
       "      <th>book_title</th>\n",
       "      <th>author_name</th>\n",
       "      <th>rating</th>\n",
       "      <th>review_text</th>\n",
       "    </tr>\n",
       "  </thead>\n",
       "  <tbody>\n",
       "    <tr>\n",
       "      <th>0</th>\n",
       "      <td>1</td>\n",
       "      <td>1984</td>\n",
       "      <td>George Orwell</td>\n",
       "      <td>5</td>\n",
       "      <td>A timeless masterpiece.</td>\n",
       "    </tr>\n",
       "    <tr>\n",
       "      <th>1</th>\n",
       "      <td>2</td>\n",
       "      <td>Pride and Prejudice</td>\n",
       "      <td>Jane Austen</td>\n",
       "      <td>4</td>\n",
       "      <td>A wonderful love story.</td>\n",
       "    </tr>\n",
       "    <tr>\n",
       "      <th>2</th>\n",
       "      <td>3</td>\n",
       "      <td>Harry Potter and the Philosophers Stone</td>\n",
       "      <td>J.K. Rowling</td>\n",
       "      <td>5</td>\n",
       "      <td>An incredible journey of magic and friendship.</td>\n",
       "    </tr>\n",
       "    <tr>\n",
       "      <th>3</th>\n",
       "      <td>4</td>\n",
       "      <td>Adventures of Huckleberry Finn</td>\n",
       "      <td>Mark Twain</td>\n",
       "      <td>4</td>\n",
       "      <td>A fascinating adventure.</td>\n",
       "    </tr>\n",
       "    <tr>\n",
       "      <th>4</th>\n",
       "      <td>5</td>\n",
       "      <td>The Hobbit</td>\n",
       "      <td>J.R.R. Tolkien</td>\n",
       "      <td>5</td>\n",
       "      <td>An epic tale of heroism.</td>\n",
       "    </tr>\n",
       "  </tbody>\n",
       "</table>\n",
       "</div>"
      ],
      "text/plain": [
       "   review_id                               book_title     author_name  rating  \\\n",
       "0          1                                     1984   George Orwell       5   \n",
       "1          2                      Pride and Prejudice     Jane Austen       4   \n",
       "2          3  Harry Potter and the Philosophers Stone    J.K. Rowling       5   \n",
       "3          4           Adventures of Huckleberry Finn      Mark Twain       4   \n",
       "4          5                               The Hobbit  J.R.R. Tolkien       5   \n",
       "\n",
       "                                      review_text  \n",
       "0                         A timeless masterpiece.  \n",
       "1                         A wonderful love story.  \n",
       "2  An incredible journey of magic and friendship.  \n",
       "3                        A fascinating adventure.  \n",
       "4                        An epic tale of heroism.  "
      ]
     },
     "execution_count": 22,
     "metadata": {},
     "output_type": "execute_result"
    }
   ],
   "source": [
    "#Run this cell to check your output\n",
    "#do not modify this cell\n",
    "print('This is the output of your query')\n",
    "q5_result.DataFrame()"
   ]
  },
  {
   "cell_type": "code",
   "execution_count": 23,
   "id": "b79d6d71-a84c-4524-aa89-5949d156fcc2",
   "metadata": {
    "deletable": false,
    "editable": false,
    "nbgrader": {
     "cell_type": "code",
     "checksum": "dcdf92cc28721e3964dbc4b4af7ae094",
     "grade": true,
     "grade_id": "cell-bb340718cdf0c063",
     "locked": true,
     "points": 2,
     "schema_version": 3,
     "solution": false,
     "task": false
    }
   },
   "outputs": [],
   "source": [
    "#do not modify this cell\n",
    "assert q5_result.DataFrame().equals(q5)"
   ]
  },
  {
   "cell_type": "code",
   "execution_count": null,
   "id": "2d9cfe10",
   "metadata": {},
   "outputs": [],
   "source": []
  }
 ],
 "metadata": {
  "kernelspec": {
   "display_name": "Python 3 (ipykernel)",
   "language": "python",
   "name": "python3"
  },
  "language_info": {
   "codemirror_mode": {
    "name": "ipython",
    "version": 3
   },
   "file_extension": ".py",
   "mimetype": "text/x-python",
   "name": "python",
   "nbconvert_exporter": "python",
   "pygments_lexer": "ipython3",
   "version": "3.11.7"
  }
 },
 "nbformat": 4,
 "nbformat_minor": 5
}
